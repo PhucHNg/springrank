{
 "cells": [
  {
   "cell_type": "code",
   "execution_count": 4,
   "metadata": {
    "collapsed": true
   },
   "outputs": [],
   "source": [
    "import rank\n",
    "import networkx as nx\n",
    "import numpy as np\n",
    "import matplotlib.pyplot as plt\n",
    "from sklearn.cluster import KMeans\n",
    "from sklearn.cluster import spectral_clustering\n",
    "from sklearn import metrics\n",
    "from scipy.stats import spearmanr\n",
    "import math\n",
    "%matplotlib inline\n",
    "np.random.seed(10)"
   ]
  },
  {
   "cell_type": "markdown",
   "metadata": {},
   "source": [
    "Three Group Hierarchy\n",
    "=============\n",
    "\n",
    "Scores drawn from three normal distribution: N(-4, 2), N(0, 0.5), N(4, 1), Beta [0.1, 5] and C so that average degree is 5. \n",
    "\n",
    "Figure 3: A plot of clustering errors (homogeneity and completeness score -- the closer to 1 the better, 0 is as bad as possible) for each Beta.\n",
    "\n",
    "Figure 2a & b: Clustering of scores for a low and a high Beta value.\n",
    "\n",
    "Figure 1: Correlation matrix of graph"
   ]
  },
  {
   "cell_type": "code",
   "execution_count": null,
   "metadata": {
    "collapsed": true
   },
   "outputs": [],
   "source": [
    "#Replicate Dan's results\n",
    "#Adding the clustering\n",
    "reps = 100\n",
    "n = 102\n",
    "trials=10\n",
    "avg_degree = 5 \n",
    "beta_list = np.arange(0.1, 2.1, 0.1)\n",
    "bs = beta_list.size\n",
    "groups = np.concatenate((np.repeat(0, int(102/3)), np.repeat(1, int(102/3)), np.repeat(2, int(102/3))))\n",
    "\n",
    "spearman_corel = np.zeros((bs, reps)) \n",
    "\n",
    "homogeneity = np.zeros((bs, reps)) #measures of quality of clusters\n",
    "completeness = np.zeros((bs, reps))\n",
    "vmeasure = np.zeros((bs, reps))\n",
    "\n",
    "homogeneity_scr = np.zeros((bs, reps))\n",
    "completeness_scr = np.zeros((bs, reps))\n",
    "vmeasure_scr = np.zeros((bs, reps))\n",
    "\n",
    "n_cluster_list = np.zeros((bs, reps))\n",
    "n_cluster_list_scr = np.zeros((bs, reps))\n",
    "\n",
    "correlations = np.zeros((bs,n,n))\n",
    "ranks = np.zeros((bs,n))\n",
    "\n",
    "for r in range(reps):\n",
    "    #plant ranks\n",
    "    scores = np.concatenate((np.random.normal(-4, math.sqrt(2), size=int(n/3)), \n",
    "                         np.random.normal(0, math.sqrt(0.5),size=int(n/3)), \n",
    "                         np.random.normal(4, math.sqrt(1), size=int(n/3))))\n",
    "    #spring energy matrix\n",
    "    spr = np.zeros((n,n))\n",
    "    for i in range(n):\n",
    "        for j in range(n):\n",
    "            spr[i,j] = (scores[i] - scores[j] - 1)**2\n",
    "            \n",
    "    for i in range(bs):\n",
    "        #plant graph\n",
    "        beta = beta_list[i]\n",
    "        c = avg_degree*n/np.sum(np.exp(-0.5*beta*spr))\n",
    "        A = rank.generate_graph(s=scores, beta=beta, c=c)\n",
    "        \n",
    "        #calculate ranks\n",
    "        out = rank.spring_rank(A)\n",
    "        scores_pred = out[0]\n",
    "        \n",
    "        #compare to planted ranks\n",
    "        spearman_corel[i, r] = spearmanr(scores, scores_pred)[0]\n",
    "        \n",
    "        #correlation between ranks\n",
    "        sigma = out[1]\n",
    "        correlation = rank.pearson_correlation(sigma)\n",
    "        \n",
    "        if r==1:\n",
    "            correlations[i,:,:] = correlation\n",
    "            ranks[i,:] = scores_pred\n",
    "        \n",
    "        #cluster the correlation and predicted scores\n",
    "        features = [correlation, scores_pred.reshape((n,1))]\n",
    "        for m in range(2):\n",
    "#choose number of clusters using silhouette scores        \n",
    "#             ss = np.zeros(trials)\n",
    "#             for k in range(1,trials):\n",
    "#                 kmeans = KMeans(n_clusters=k+1, random_state=0).fit(features[m])\n",
    "#                 ss[k] = metrics.silhouette_score(features[m], kmeans.labels_)\n",
    "#             n_clusters = int(np.argmax(ss) + 1)\n",
    "\n",
    "            n_clusters = 3\n",
    "            \n",
    "            #cluster:\n",
    "            kmeans = KMeans(n_clusters=n_clusters, random_state=0).fit(features[m])\n",
    "            groups_pred = kmeans.labels_\n",
    "\n",
    "            #measure quality of clusters\n",
    "            if m == 0:\n",
    "                homogeneity[i, r] = metrics.homogeneity_score(groups, groups_pred)  \n",
    "                completeness[i, r] = metrics.completeness_score(groups, groups_pred)\n",
    "                vmeasure[i, r] = metrics.v_measure_score(groups, groups_pred)\n",
    "                n_cluster_list[i, r] = n_clusters\n",
    "            else:\n",
    "                homogeneity_scr[i, r] = metrics.homogeneity_score(groups, groups_pred)  \n",
    "                completeness_scr[i, r] = metrics.completeness_score(groups, groups_pred)\n",
    "                vmeasure_scr[i, r] = metrics.v_measure_score(groups, groups_pred)\n",
    "                n_cluster_list_scr[i, r] = n_clusters\n",
    "        "
   ]
  },
  {
   "cell_type": "code",
   "execution_count": 72,
   "metadata": {
    "collapsed": true
   },
   "outputs": [],
   "source": [
    "#Save data:\n",
    "#Source:https://stackoverflow.com/questions/25749215/save-a-numpy-matrix\n",
    "# np.savez('three_group_data', spearmanr=spearman_corel, crl_homogeneity=homogeneity, crl_completeness=completeness, \n",
    "#          crl_vmeasure=vmeasure, scr_homogeneity=homogeneity_scr, scr_completeness=completeness_scr, scr_vmeasure=vmeasure_scr,\n",
    "#         n_clusters = n_cluster_list, scr_n_clusters= n_cluster_list_scr,\n",
    "#         correlations=correlations, rankings=rankings)"
   ]
  },
  {
   "cell_type": "markdown",
   "metadata": {},
   "source": [
    "PLOT\n",
    "----"
   ]
  },
  {
   "cell_type": "code",
   "execution_count": 77,
   "metadata": {
    "collapsed": true
   },
   "outputs": [],
   "source": [
    "data = np.load('three_group_data_8-7.npz')"
   ]
  },
  {
   "cell_type": "code",
   "execution_count": 78,
   "metadata": {
    "collapsed": true
   },
   "outputs": [],
   "source": [
    "reps=100\n",
    "error1 = np.std(data['crl_homogeneity'], axis=1)/math.sqrt(reps) #std of row\n",
    "error2 = np.std(data['crl_completeness'], axis=1)/math.sqrt(reps)\n",
    "error3 = np.std(data['scr_homogeneity'], axis=1)/math.sqrt(reps)\n",
    "error4 = np.std(data['scr_completeness'], axis=1)/math.sqrt(reps)"
   ]
  },
  {
   "cell_type": "code",
   "execution_count": 79,
   "metadata": {
    "scrolled": false
   },
   "outputs": [
    {
     "data": {
      "image/png": "[encoded data removed]",
      "text/plain": [
       "<matplotlib.figure.Figure at 0x17b29046b70>"
      ]
     },
     "metadata": {},
     "output_type": "display_data"
    }
   ],
   "source": [
    "#Clustering Homogeneity and Completeness for different beta\n",
    "#source https://stackoverflow.com/questions/21654635/scatter-plots-in-pandas-pyplot-how-to-plot-by-category\n",
    "#error band: https://stackoverflow.com/questions/12957582/matplotlib-plot-yerr-xerr-as-shaded-region-rather-than-error-bars\n",
    "f, ax = plt.subplots(figsize=(10,5))\n",
    "ax.margins(0.05) # Optional, just adds 5% padding to the autoscaling\n",
    "ax.plot(beta_list, np.mean(data['crl_homogeneity'], axis=1), marker='o', label='CH', color='orangered')\n",
    "ax.plot(beta_list, np.mean(data['crl_completeness'], axis=1), marker='o', ls='dotted', label='CC', color='orangered')\n",
    "ax.plot(beta_list, np.mean(data['scr_homogeneity'], axis=1), marker='o', label='SH', color='m')\n",
    "ax.plot(beta_list, np.mean(data['scr_completeness'], axis=1), marker='o', ls='dotted', label='SC', color='m')\n",
    "plt.fill_between(beta_list, np.mean(data['crl_homogeneity'], axis=1)-error1, np.mean(data['crl_homogeneity'], axis=1)+error1, alpha=0.5,color='orange')\n",
    "plt.fill_between(beta_list, np.mean(data['crl_completeness'], axis=1)-error2, np.mean(data['crl_completeness'], axis=1)+error2, alpha=0.5, color='orange')\n",
    "plt.fill_between(beta_list, np.mean(data['scr_homogeneity'], axis=1)-error3, np.mean(data['scr_homogeneity'], axis=1)+error3, alpha=0.5, color='plum')\n",
    "plt.fill_between(beta_list, np.mean(data['scr_completeness'], axis=1)-error4, np.mean(data['scr_completeness'], axis=1)+error4, alpha=0.5, color='plum')\n",
    "ax.set_ylim([0,1])\n",
    "ax.legend()\n",
    "plt.savefig('presentation/images/three group/clustering_performance_over_beta2_dashed.png')"
   ]
  },
  {
   "cell_type": "code",
   "execution_count": 65,
   "metadata": {
    "scrolled": false
   },
   "outputs": [
    {
     "data": {
      "image/png": "[encoded data removed]",
      "text/plain": [
       "<matplotlib.figure.Figure at 0x17b2914c828>"
      ]
     },
     "metadata": {},
     "output_type": "display_data"
    }
   ],
   "source": [
    "# Spearman Correlation\n",
    "error5 = np.std(data['spearmanr'], axis=1)/math.sqrt(reps)\n",
    "plt.plot(beta_list, np.mean(data['spearmanr'], axis=1), color='darkturquoise', marker='o')\n",
    "plt.fill_between(beta_list, np.mean(data['spearmanr'], axis=1)-error5, np.mean(data['spearmanr'], axis=1)+error5)\n",
    "plt.ylim([0,1])\n",
    "plt.savefig('presentation/images/three group/spearmanr_over_beta2.png')"
   ]
  },
  {
   "cell_type": "code",
   "execution_count": 66,
   "metadata": {},
   "outputs": [
    {
     "data": {
      "image/png": "[encoded data removed]",
      "text/plain": [
       "<matplotlib.figure.Figure at 0x17b28bde828>"
      ]
     },
     "metadata": {},
     "output_type": "display_data"
    }
   ],
   "source": [
    "# Is the clustering by correlation underfitting because homogeneity is low (cluster only has member of a class) \n",
    "#but completeness is high (all members of class in same cluster)?\n",
    "error6 = np.std(data['n_clusters'], axis=1)/math.sqrt(reps)\n",
    "error7 = np.std(data['scr_n_clusters'], axis=1)/math.sqrt(reps)\n",
    "f, ax = plt.subplots(figsize=(10,5))\n",
    "ax.margins(0.05) # Optional, just adds 5% padding to the autoscaling\n",
    "ax.plot(beta_list, np.mean(data['n_clusters'], axis=1), marker='o', color='gold', label='C')\n",
    "ax.plot(beta_list, np.mean(data['scr_n_clusters'], axis=1), marker='o', color='m', label='S')\n",
    "plt.fill_between(beta_list, np.mean(data['n_clusters'], axis=1)-error6, np.mean(data['n_clusters'], axis=1)+error6, alpha=0.7, color='khaki')\n",
    "plt.fill_between(beta_list, np.mean(data['scr_n_clusters'], axis=1)-error7, np.mean(data['scr_n_clusters'], axis=1)+error7, alpha=0.7, color='plum')\n",
    "ax.legend()\n",
    "ax.set_ylim([0,8])\n",
    "plt.savefig('presentation/images/three group/number_clusters_over_beta2.png')"
   ]
  },
  {
   "cell_type": "code",
   "execution_count": 55,
   "metadata": {},
   "outputs": [
    {
     "data": {
      "text/plain": [
       "<matplotlib.figure.Figure at 0x17b29036f98>"
      ]
     },
     "metadata": {},
     "output_type": "display_data"
    },
    {
     "data": {
      "text/plain": [
       "<matplotlib.figure.Figure at 0x17b2795c080>"
      ]
     },
     "metadata": {},
     "output_type": "display_data"
    },
    {
     "data": {
      "text/plain": [
       "<matplotlib.figure.Figure at 0x17b28ecb8d0>"
      ]
     },
     "metadata": {},
     "output_type": "display_data"
    },
    {
     "data": {
      "text/plain": [
       "<matplotlib.figure.Figure at 0x17b28c7a668>"
      ]
     },
     "metadata": {},
     "output_type": "display_data"
    },
    {
     "data": {
      "text/plain": [
       "<matplotlib.figure.Figure at 0x17b28f0c128>"
      ]
     },
     "metadata": {},
     "output_type": "display_data"
    },
    {
     "data": {
      "text/plain": [
       "<matplotlib.figure.Figure at 0x17b28ce86d8>"
      ]
     },
     "metadata": {},
     "output_type": "display_data"
    },
    {
     "data": {
      "text/plain": [
       "<matplotlib.figure.Figure at 0x17b28c29748>"
      ]
     },
     "metadata": {},
     "output_type": "display_data"
    },
    {
     "data": {
      "text/plain": [
       "<matplotlib.figure.Figure at 0x17b290329e8>"
      ]
     },
     "metadata": {},
     "output_type": "display_data"
    },
    {
     "data": {
      "text/plain": [
       "<matplotlib.figure.Figure at 0x17b28e95dd8>"
      ]
     },
     "metadata": {},
     "output_type": "display_data"
    },
    {
     "data": {
      "text/plain": [
       "<matplotlib.figure.Figure at 0x17b278c06d8>"
      ]
     },
     "metadata": {},
     "output_type": "display_data"
    },
    {
     "data": {
      "text/plain": [
       "<matplotlib.figure.Figure at 0x17b291497f0>"
      ]
     },
     "metadata": {},
     "output_type": "display_data"
    },
    {
     "data": {
      "text/plain": [
       "<matplotlib.figure.Figure at 0x17b2797a4a8>"
      ]
     },
     "metadata": {},
     "output_type": "display_data"
    },
    {
     "data": {
      "text/plain": [
       "<matplotlib.figure.Figure at 0x17b27b252e8>"
      ]
     },
     "metadata": {},
     "output_type": "display_data"
    },
    {
     "data": {
      "text/plain": [
       "<matplotlib.figure.Figure at 0x17b28e39320>"
      ]
     },
     "metadata": {},
     "output_type": "display_data"
    },
    {
     "data": {
      "text/plain": [
       "<matplotlib.figure.Figure at 0x17b28f8b7b8>"
      ]
     },
     "metadata": {},
     "output_type": "display_data"
    },
    {
     "data": {
      "text/plain": [
       "<matplotlib.figure.Figure at 0x17b29148da0>"
      ]
     },
     "metadata": {},
     "output_type": "display_data"
    },
    {
     "data": {
      "text/plain": [
       "<matplotlib.figure.Figure at 0x17b27b82400>"
      ]
     },
     "metadata": {},
     "output_type": "display_data"
    },
    {
     "data": {
      "text/plain": [
       "<matplotlib.figure.Figure at 0x17b28bdafd0>"
      ]
     },
     "metadata": {},
     "output_type": "display_data"
    },
    {
     "data": {
      "text/plain": [
       "<matplotlib.figure.Figure at 0x17b28cb8160>"
      ]
     },
     "metadata": {},
     "output_type": "display_data"
    },
    {
     "data": {
      "text/plain": [
       "<matplotlib.figure.Figure at 0x17b28e77908>"
      ]
     },
     "metadata": {},
     "output_type": "display_data"
    }
   ],
   "source": [
    "#Plot correlation matrix\n",
    "for k in range(data['correlations'].shape[0]):\n",
    "    plt.matshow(data['correlations'][k,:,:], cmap='RdBu_r');\n",
    "    plt.colorbar();\n",
    "    plt.savefig('presentation/images/three group/correlation/beta'+str(k)+'.png')\n",
    "    plt.clf()"
   ]
  },
  {
   "cell_type": "code",
   "execution_count": 53,
   "metadata": {
    "scrolled": true
   },
   "outputs": [
    {
     "data": {
      "text/plain": [
       "<matplotlib.figure.Figure at 0x17b27788320>"
      ]
     },
     "metadata": {},
     "output_type": "display_data"
    },
    {
     "data": {
      "text/plain": [
       "<matplotlib.figure.Figure at 0x17b29177f60>"
      ]
     },
     "metadata": {},
     "output_type": "display_data"
    },
    {
     "data": {
      "text/plain": [
       "<matplotlib.figure.Figure at 0x17b25525550>"
      ]
     },
     "metadata": {},
     "output_type": "display_data"
    },
    {
     "data": {
      "text/plain": [
       "<matplotlib.figure.Figure at 0x17b28d28898>"
      ]
     },
     "metadata": {},
     "output_type": "display_data"
    },
    {
     "data": {
      "text/plain": [
       "<matplotlib.figure.Figure at 0x17b28e02320>"
      ]
     },
     "metadata": {},
     "output_type": "display_data"
    },
    {
     "data": {
      "text/plain": [
       "<matplotlib.figure.Figure at 0x17b29048b00>"
      ]
     },
     "metadata": {},
     "output_type": "display_data"
    },
    {
     "data": {
      "text/plain": [
       "<matplotlib.figure.Figure at 0x17b28dc22e8>"
      ]
     },
     "metadata": {},
     "output_type": "display_data"
    },
    {
     "data": {
      "text/plain": [
       "<matplotlib.figure.Figure at 0x17b28c7a320>"
      ]
     },
     "metadata": {},
     "output_type": "display_data"
    },
    {
     "data": {
      "text/plain": [
       "<matplotlib.figure.Figure at 0x17b28ead7b8>"
      ]
     },
     "metadata": {},
     "output_type": "display_data"
    },
    {
     "data": {
      "text/plain": [
       "<matplotlib.figure.Figure at 0x17b28e22048>"
      ]
     },
     "metadata": {},
     "output_type": "display_data"
    },
    {
     "data": {
      "text/plain": [
       "<matplotlib.figure.Figure at 0x17b28f426d8>"
      ]
     },
     "metadata": {},
     "output_type": "display_data"
    },
    {
     "data": {
      "text/plain": [
       "<matplotlib.figure.Figure at 0x17b28c6b8d0>"
      ]
     },
     "metadata": {},
     "output_type": "display_data"
    },
    {
     "data": {
      "text/plain": [
       "<matplotlib.figure.Figure at 0x17b28e4de10>"
      ]
     },
     "metadata": {},
     "output_type": "display_data"
    },
    {
     "data": {
      "text/plain": [
       "<matplotlib.figure.Figure at 0x17b2794c710>"
      ]
     },
     "metadata": {},
     "output_type": "display_data"
    },
    {
     "data": {
      "text/plain": [
       "<matplotlib.figure.Figure at 0x17b29058b70>"
      ]
     },
     "metadata": {},
     "output_type": "display_data"
    },
    {
     "data": {
      "text/plain": [
       "<matplotlib.figure.Figure at 0x17b29114710>"
      ]
     },
     "metadata": {},
     "output_type": "display_data"
    },
    {
     "data": {
      "text/plain": [
       "<matplotlib.figure.Figure at 0x17b28eb1390>"
      ]
     },
     "metadata": {},
     "output_type": "display_data"
    },
    {
     "data": {
      "text/plain": [
       "<matplotlib.figure.Figure at 0x17b28cad6a0>"
      ]
     },
     "metadata": {},
     "output_type": "display_data"
    },
    {
     "data": {
      "text/plain": [
       "<matplotlib.figure.Figure at 0x17b28ce7518>"
      ]
     },
     "metadata": {},
     "output_type": "display_data"
    },
    {
     "data": {
      "text/plain": [
       "<matplotlib.figure.Figure at 0x17b29156358>"
      ]
     },
     "metadata": {},
     "output_type": "display_data"
    }
   ],
   "source": [
    "#Plot the density of scores\n",
    "from scipy.stats import norm\n",
    "from sklearn.neighbors import KernelDensity\n",
    "ranks = np.load('three_group_ranks_8-6.npy')\n",
    "for i in range(ranks.shape[0]):\n",
    "    X = ranks[i,:][:, np.newaxis]\n",
    "    X_plot = np.linspace(np.min(X), np.max(X), 1000)[:, np.newaxis]\n",
    "    fig, ax = plt.subplots()\n",
    "    kde = KernelDensity(kernel='gaussian', bandwidth=0.5).fit(X)\n",
    "    log_dens = kde.score_samples(X_plot) \n",
    "    ax.plot(X_plot[:, 0], np.exp(log_dens), '-',\n",
    "            label=\"kernel = '{0}'\".format('gaussian'))\n",
    "    plt.savefig('presentation/images/three group/scores_dist_beta'+str(i)+'.png')\n",
    "    plt.clf()\n"
   ]
  },
  {
   "cell_type": "markdown",
   "metadata": {},
   "source": [
    "Plot an example of a tier graph with 100 nodes\n",
    "---------------\n",
    "PLOTLY doesn't work because it only create straight edges.\n",
    "\n",
    "TODO: find another package?"
   ]
  },
  {
   "cell_type": "code",
   "execution_count": null,
   "metadata": {
    "collapsed": true
   },
   "outputs": [],
   "source": []
  }
 ],
 "metadata": {
  "kernelspec": {
   "display_name": "Python 3",
   "language": "python",
   "name": "python3"
  },
  "language_info": {
   "codemirror_mode": {
    "name": "ipython",
    "version": 3
   },
   "file_extension": ".py",
   "mimetype": "text/x-python",
   "name": "python",
   "nbconvert_exporter": "python",
   "pygments_lexer": "ipython3",
   "version": "3.6.1"
  }
 },
 "nbformat": 4,
 "nbformat_minor": 2
}
