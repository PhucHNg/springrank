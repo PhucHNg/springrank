{
 "cells": [
  {
   "cell_type": "markdown",
   "metadata": {},
   "source": [
    "Make Data for Gephi Viz\n",
    "==========\n",
    "\n",
    "**10/5/2017**\n",
    "\n",
    "Create four directed, weighted networks: \n",
    "\n",
    "    - Three-tier hierarchy, beta = 0.1\n",
    "    - Three-tier hierarchy, beta = 1.0\n",
    "    - Y-shaped hierarchy, trunk = \n",
    "    - Y-shaped hierarchy, trunk =\n",
    "    \n",
    "Each network has the following files and variables:\n",
    "    \n",
    "    - edges.csv:\n",
    "    \n",
    "        + Source: numeric, id of node where an edge comes from\n",
    "        + Target: numeric, id of node where an edge goes to\n",
    "        + Weight: numeric,\n",
    "    \n",
    "    - nodes.csv:\n",
    "    \n",
    "        + id: numeric (integer)\n",
    "        + rank: numeric (double), SpringRank scores\n",
    "        + cluster_0: string or numeric ??? true clusters\n",
    "        + cluster_1: string or numeric ??? clusters from scores\n",
    "        + cluster_2: string or numeric ??? clusters from correlation"
   ]
  },
  {
   "cell_type": "code",
   "execution_count": 10,
   "metadata": {},
   "outputs": [],
   "source": [
    "import numpy as np\n",
    "from sklearn.cluster import KMeans\n",
    "import os, sys\n",
    "import rank\n",
    "import math\n",
    "np.random.seed(10)"
   ]
  },
  {
   "cell_type": "markdown",
   "metadata": {},
   "source": [
    "1. Three-tier, beta = 0.1 and 1.0\n",
    "-------"
   ]
  },
  {
   "cell_type": "code",
   "execution_count": 17,
   "metadata": {},
   "outputs": [],
   "source": [
    "#Draw scores from three normal distributions\n",
    "\n",
    "n = 102\n",
    "scores = np.concatenate((np.random.normal(-4, math.sqrt(2), size=int(n/3)), \n",
    "                         np.random.normal(0, math.sqrt(0.5),size=int(n/3)), \n",
    "                         np.random.normal(4, math.sqrt(1), size=int(n/3))))\n",
    "clusters = np.concatenate((np.repeat(0, int(102/3)), np.repeat(1, int(102/3)), np.repeat(2, int(102/3))))\n",
    "\n",
    "#Plant graph\n",
    "\n",
    "avg_degree = 5\n",
    "betas = np.array((0.1, 1.0))\n",
    "for beta in betas:\n",
    "    c = rank.estimate_c(avg_degree=avg_degree, beta=beta, scores=scores)\n",
    "    A = rank.generate_graph(s=scores, beta=beta, c=c)\n",
    "\n",
    "    #SpringRank scores and correlation\n",
    "\n",
    "    out = rank.spring_rank(A)\n",
    "    pred_scores = out[0]\n",
    "    correlation = rank.pearson_correlation(out[1])\n",
    "\n",
    "    #Predicted clusters\n",
    "\n",
    "    n_clusters = 3\n",
    "    kmeans_1 = KMeans(n_clusters=n_clusters, random_state=0).fit(pred_scores.reshape((n,1)))\n",
    "    clusters_1 = kmeans_1.labels_\n",
    "    kmeans_2 = KMeans(n_clusters=n_clusters, random_state=0).fit(correlation)\n",
    "    clusters_2 = kmeans_2.labels_\n",
    "\n",
    "    #Save the edges\n",
    "\n",
    "    source, target = np.nonzero(A)\n",
    "    weight = A[source, target]\n",
    "    np.savetxt('edges_beta'+str(beta)+'.csv', (source+1, target+1, weight), delimiter=',')\n",
    "\n",
    "    #Save the nodes\n",
    "    \n",
    "    np.savetxt('nodes_beta'+str(beta)+'.csv', (np.arange(1,n+1), pred_scores, clusters, clusters_1, clusters_2), delimiter=',')"
   ]
  },
  {
   "cell_type": "markdown",
   "metadata": {},
   "source": [
    "2. Y-graph, beta = 0.3 and 1.0, trunk = 30 and 70\n",
    "----------"
   ]
  },
  {
   "cell_type": "code",
   "execution_count": null,
   "metadata": {
    "collapsed": true
   },
   "outputs": [],
   "source": [
    "betas = np.array((0.3, 1.0))\n",
    "trunks = np.array((30, 70))\n",
    "n = 102\n",
    "avg_degree = 5\n",
    "\n",
    "for trunk in trunks:\n",
    "    branch = (n-trunk)/2\n",
    "    scores = np.concatenate((np.random.normal(-4, math.sqrt(2), size=int(trunk)), \n",
    "                         np.random.normal(0, math.sqrt(1),size=int(branch)), \n",
    "                         np.random.normal(0, math.sqrt(1), size=int(branch))))\n",
    "    clusters = np.concatenate((np.repeat(0, int(trunk)), np.repeat(1, int(branch)), np.repeat(2, int(branch))))\n",
    "    \n",
    "    for beta in betas:\n",
    "        #Plant graph:\n",
    "        c = rank.estimate_c(avg_degree=avg_degree, beta=beta, scores=scores)\n",
    "        null_graph = rank.generate_graph(s=scores, beta=beta, c=c)\n",
    "        y_graph = null_graph.copy()\n",
    "        y_graph[trunk:trunk+branch, trunk+branch:] = 0\n",
    "        y_graph[trunk+branch:, trunk:trunk+branch] = 0\n",
    "    \n",
    "        #Save the edges\n",
    "\n",
    "        source, target = np.nonzero(A)\n",
    "        weight = A[source, target]\n",
    "        np.savetxt('edges_beta'+str(beta)+'.csv', (source+1, target+1, weight), delimiter=',')\n",
    "\n",
    "        #Save the nodes\n",
    "\n",
    "        np.savetxt('nodes_beta'+str(beta)+'.csv', (np.arange(1,n+1), pred_scores, clusters, clusters_1, clusters_2), delimiter=',')"
   ]
  },
  {
   "cell_type": "code",
   "execution_count": null,
   "metadata": {
    "collapsed": true
   },
   "outputs": [],
   "source": [
    "import matplotlib.pyplot as plt\n",
    "x = np.arange(0,900)\n",
    "x = np.reshape(x, (30,30))"
   ]
  },
  {
   "cell_type": "code",
   "execution_count": 26,
   "metadata": {},
   "outputs": [],
   "source": [
    "x[15:25, 25:] = 0\n",
    "x[25:, 15:25] = 0"
   ]
  },
  {
   "cell_type": "code",
   "execution_count": 27,
   "metadata": {},
   "outputs": [
    {
     "data": {
      "text/plain": [
       "<matplotlib.image.AxesImage at 0x19f60953978>"
      ]
     },
     "execution_count": 27,
     "metadata": {},
     "output_type": "execute_result"
    },
    {
     "data": {
      "image/png": "[encoded data removed]",
      "text/plain": [
       "<matplotlib.figure.Figure at 0x19f60811828>"
      ]
     },
     "metadata": {},
     "output_type": "display_data"
    }
   ],
   "source": [
    "%matplotlib inline\n",
    "plt.imshow(x)"
   ]
  }
 ],
 "metadata": {
  "kernelspec": {
   "display_name": "Python 3",
   "language": "python",
   "name": "python3"
  },
  "language_info": {
   "codemirror_mode": {
    "name": "ipython",
    "version": 3
   },
   "file_extension": ".py",
   "mimetype": "text/x-python",
   "name": "python",
   "nbconvert_exporter": "python",
   "pygments_lexer": "ipython3",
   "version": "3.6.1"
  }
 },
 "nbformat": 4,
 "nbformat_minor": 2
}
